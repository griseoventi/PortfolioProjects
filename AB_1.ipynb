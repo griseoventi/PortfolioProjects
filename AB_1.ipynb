{
 "cells": [
  {
   "cell_type": "markdown",
   "metadata": {},
   "source": [
    "Данные\n",
    "\n",
    "Игра содержит особое событие – ивент, для прохождения которого пользователи могут тратить деньги. Группа дизайнеров решила поменять вид окошка покупки ивентовых продуктов. Чтобы оценить результат нововведения, провели АБ тест, разделив пользователей на две группы: контрольную и тестовую (с окошком нового типа).\n",
    "\n",
    "Задача\n",
    "Исследовать какая из АБ групп лучше себя показала. Результаты предоставить в понятной для широкой аудитории форме, сопроводив по необходимости графиками/дашбордами/числами. Колонки\n",
    "\n",
    "1) AbGroup – имя АБ группы: Control/Test\n",
    "\n",
    "2) user_id – id пользователя\n",
    "\n",
    "3) time_stamp – день события\n",
    "\n",
    "4) install_date – день установки приложения пользователем\n",
    "\n",
    "5) event_name – техническое название события (InAppPurchase - в случае покупки за деньги, ResourceSpend в случае покупки за игровую валюту)\n",
    "\n",
    "6) platform – платформа google / itunes\n",
    "\n",
    "7) network_name – пользователь установил игру по переходу с рекламы (Paid) или нет (Organic)\n",
    "\n",
    "8) country_name – страна пользователя\n",
    "\n",
    "9) InGameTime – сколько всего пользователь провел в игре секунд\n",
    "\n",
    "10) LastCompletedLevel – номер последнего пройденного уровня\n",
    "\n",
    "11) avg_energy_amount – сколько в среднем энергии было у пользователя за день\n",
    "\n",
    "12) revenue_on_event – ревеню, потраченное на покупку ивентовых продуктов\n",
    "\n",
    "13) revenue_on_other_activities – ревеню, потраченное на остальные продукты, включая золото\n",
    "\n",
    "14) gold_on_event – золото, потраченное на ивентный прогресс\n",
    "\n",
    "15) gold_on_other_activities – золото, потраченное на другие продукты"
   ]
  },
  {
   "cell_type": "markdown",
   "metadata": {},
   "source": []
  },
  {
   "cell_type": "code",
   "execution_count": 3,
   "metadata": {},
   "outputs": [],
   "source": [
    "import pandas as pd\n",
    "import numpy as np"
   ]
  },
  {
   "cell_type": "code",
   "execution_count": 4,
   "metadata": {},
   "outputs": [],
   "source": [
    "df = pd.read_csv(r'C:\\Users\\Lily_B\\Documents\\аналитика на python\\test_task_product_analyst_2021_20210427.csv')"
   ]
  },
  {
   "cell_type": "markdown",
   "metadata": {},
   "source": [
    "Н0: различий между группами нет\n",
    "\n",
    "Н1: различия есть"
   ]
  },
  {
   "cell_type": "code",
   "execution_count": 7,
   "metadata": {},
   "outputs": [
    {
     "data": {
      "text/html": [
       "<div>\n",
       "<style scoped>\n",
       "    .dataframe tbody tr th:only-of-type {\n",
       "        vertical-align: middle;\n",
       "    }\n",
       "\n",
       "    .dataframe tbody tr th {\n",
       "        vertical-align: top;\n",
       "    }\n",
       "\n",
       "    .dataframe thead th {\n",
       "        text-align: right;\n",
       "    }\n",
       "</style>\n",
       "<table border=\"1\" class=\"dataframe\">\n",
       "  <thead>\n",
       "    <tr style=\"text-align: right;\">\n",
       "      <th></th>\n",
       "      <th>AbGroup</th>\n",
       "      <th>user_id</th>\n",
       "      <th>time_stamp</th>\n",
       "      <th>install_date</th>\n",
       "      <th>event_name</th>\n",
       "      <th>platform</th>\n",
       "      <th>network_name</th>\n",
       "      <th>country_name</th>\n",
       "      <th>InGameTime</th>\n",
       "      <th>LastCompletedLevel</th>\n",
       "      <th>avg_energy_amount</th>\n",
       "      <th>revenue_on_event</th>\n",
       "      <th>revenue_on_other_activities</th>\n",
       "      <th>gold_on_event</th>\n",
       "      <th>gold_on_other_activities</th>\n",
       "    </tr>\n",
       "  </thead>\n",
       "  <tbody>\n",
       "    <tr>\n",
       "      <th>0</th>\n",
       "      <td>Control</td>\n",
       "      <td>d60ebcaecff2dc1d360a8a41271e6fd8a902c107</td>\n",
       "      <td>2020-02-10</td>\n",
       "      <td>2019-11-10</td>\n",
       "      <td>ResourceSpend</td>\n",
       "      <td>itunes</td>\n",
       "      <td>Organic</td>\n",
       "      <td>United Kingdom of Great Britain and Northern I...</td>\n",
       "      <td>276180</td>\n",
       "      <td>345</td>\n",
       "      <td>54.0</td>\n",
       "      <td>0.0</td>\n",
       "      <td>0.0</td>\n",
       "      <td>NaN</td>\n",
       "      <td>NaN</td>\n",
       "    </tr>\n",
       "    <tr>\n",
       "      <th>1</th>\n",
       "      <td>Test</td>\n",
       "      <td>f6e385b0ab43d5aea9cfcc408aa84029a4ea5fdb</td>\n",
       "      <td>2020-03-04</td>\n",
       "      <td>2019-11-05</td>\n",
       "      <td>ResourceSpend</td>\n",
       "      <td>itunes</td>\n",
       "      <td>Paid</td>\n",
       "      <td>United States of America</td>\n",
       "      <td>166095</td>\n",
       "      <td>199</td>\n",
       "      <td>50.0</td>\n",
       "      <td>0.0</td>\n",
       "      <td>0.0</td>\n",
       "      <td>NaN</td>\n",
       "      <td>NaN</td>\n",
       "    </tr>\n",
       "    <tr>\n",
       "      <th>2</th>\n",
       "      <td>Control</td>\n",
       "      <td>a4c80c8524e2c11cc238553d7b02da01ce2aad66</td>\n",
       "      <td>2020-02-26</td>\n",
       "      <td>2020-01-02</td>\n",
       "      <td>ResourceSpend</td>\n",
       "      <td>itunes</td>\n",
       "      <td>Paid</td>\n",
       "      <td>Canada</td>\n",
       "      <td>240986</td>\n",
       "      <td>84</td>\n",
       "      <td>39.0</td>\n",
       "      <td>0.0</td>\n",
       "      <td>0.0</td>\n",
       "      <td>NaN</td>\n",
       "      <td>NaN</td>\n",
       "    </tr>\n",
       "    <tr>\n",
       "      <th>3</th>\n",
       "      <td>Control</td>\n",
       "      <td>7ea2e4599ae33760c307e254839317bd5b17a63c</td>\n",
       "      <td>2020-02-21</td>\n",
       "      <td>2020-01-13</td>\n",
       "      <td>ResourceSpend</td>\n",
       "      <td>itunes</td>\n",
       "      <td>Organic</td>\n",
       "      <td>France</td>\n",
       "      <td>989822</td>\n",
       "      <td>1176</td>\n",
       "      <td>21.0</td>\n",
       "      <td>0.0</td>\n",
       "      <td>0.0</td>\n",
       "      <td>NaN</td>\n",
       "      <td>NaN</td>\n",
       "    </tr>\n",
       "    <tr>\n",
       "      <th>4</th>\n",
       "      <td>Control</td>\n",
       "      <td>6495168982929360dc6d84bf0766d8963a7ddc41</td>\n",
       "      <td>2020-02-18</td>\n",
       "      <td>2020-02-05</td>\n",
       "      <td>ResourceSpend</td>\n",
       "      <td>itunes</td>\n",
       "      <td>Paid</td>\n",
       "      <td>Spain</td>\n",
       "      <td>52106</td>\n",
       "      <td>66</td>\n",
       "      <td>43.0</td>\n",
       "      <td>0.0</td>\n",
       "      <td>0.0</td>\n",
       "      <td>500.0</td>\n",
       "      <td>NaN</td>\n",
       "    </tr>\n",
       "  </tbody>\n",
       "</table>\n",
       "</div>"
      ],
      "text/plain": [
       "   AbGroup                                   user_id  time_stamp install_date  \\\n",
       "0  Control  d60ebcaecff2dc1d360a8a41271e6fd8a902c107  2020-02-10   2019-11-10   \n",
       "1     Test  f6e385b0ab43d5aea9cfcc408aa84029a4ea5fdb  2020-03-04   2019-11-05   \n",
       "2  Control  a4c80c8524e2c11cc238553d7b02da01ce2aad66  2020-02-26   2020-01-02   \n",
       "3  Control  7ea2e4599ae33760c307e254839317bd5b17a63c  2020-02-21   2020-01-13   \n",
       "4  Control  6495168982929360dc6d84bf0766d8963a7ddc41  2020-02-18   2020-02-05   \n",
       "\n",
       "      event_name platform network_name  \\\n",
       "0  ResourceSpend   itunes      Organic   \n",
       "1  ResourceSpend   itunes         Paid   \n",
       "2  ResourceSpend   itunes         Paid   \n",
       "3  ResourceSpend   itunes      Organic   \n",
       "4  ResourceSpend   itunes         Paid   \n",
       "\n",
       "                                        country_name  InGameTime  \\\n",
       "0  United Kingdom of Great Britain and Northern I...      276180   \n",
       "1                           United States of America      166095   \n",
       "2                                             Canada      240986   \n",
       "3                                             France      989822   \n",
       "4                                              Spain       52106   \n",
       "\n",
       "   LastCompletedLevel  avg_energy_amount  revenue_on_event  \\\n",
       "0                 345               54.0               0.0   \n",
       "1                 199               50.0               0.0   \n",
       "2                  84               39.0               0.0   \n",
       "3                1176               21.0               0.0   \n",
       "4                  66               43.0               0.0   \n",
       "\n",
       "   revenue_on_other_activities  gold_on_event  gold_on_other_activities  \n",
       "0                          0.0            NaN                       NaN  \n",
       "1                          0.0            NaN                       NaN  \n",
       "2                          0.0            NaN                       NaN  \n",
       "3                          0.0            NaN                       NaN  \n",
       "4                          0.0          500.0                       NaN  "
      ]
     },
     "execution_count": 7,
     "metadata": {},
     "output_type": "execute_result"
    }
   ],
   "source": [
    "df.head()"
   ]
  },
  {
   "cell_type": "code",
   "execution_count": 8,
   "metadata": {},
   "outputs": [
    {
     "data": {
      "text/plain": [
       "696840"
      ]
     },
     "execution_count": 8,
     "metadata": {},
     "output_type": "execute_result"
    }
   ],
   "source": [
    "len(df)"
   ]
  },
  {
   "cell_type": "markdown",
   "metadata": {},
   "source": [
    "Посмотрим объем выборок и их процентное соотношение."
   ]
  },
  {
   "cell_type": "code",
   "execution_count": 11,
   "metadata": {},
   "outputs": [
    {
     "data": {
      "text/plain": [
       "Control    558070\n",
       "Test       138770\n",
       "Name: AbGroup, dtype: int64"
      ]
     },
     "execution_count": 11,
     "metadata": {},
     "output_type": "execute_result"
    }
   ],
   "source": [
    "df['AbGroup'].value_counts()"
   ]
  },
  {
   "cell_type": "code",
   "execution_count": 13,
   "metadata": {},
   "outputs": [
    {
     "data": {
      "text/plain": [
       "Control    0.800858\n",
       "Test       0.199142\n",
       "Name: AbGroup, dtype: float64"
      ]
     },
     "execution_count": 13,
     "metadata": {},
     "output_type": "execute_result"
    }
   ],
   "source": [
    "df['AbGroup'].value_counts(normalize=True)"
   ]
  },
  {
   "cell_type": "markdown",
   "metadata": {},
   "source": [
    "Проверим уникаотность пользователей."
   ]
  },
  {
   "cell_type": "code",
   "execution_count": 16,
   "metadata": {},
   "outputs": [
    {
     "data": {
      "text/html": [
       "<div>\n",
       "<style scoped>\n",
       "    .dataframe tbody tr th:only-of-type {\n",
       "        vertical-align: middle;\n",
       "    }\n",
       "\n",
       "    .dataframe tbody tr th {\n",
       "        vertical-align: top;\n",
       "    }\n",
       "\n",
       "    .dataframe thead th {\n",
       "        text-align: right;\n",
       "    }\n",
       "</style>\n",
       "<table border=\"1\" class=\"dataframe\">\n",
       "  <thead>\n",
       "    <tr style=\"text-align: right;\">\n",
       "      <th></th>\n",
       "      <th>count</th>\n",
       "      <th>nunique</th>\n",
       "    </tr>\n",
       "    <tr>\n",
       "      <th>AbGroup</th>\n",
       "      <th></th>\n",
       "      <th></th>\n",
       "    </tr>\n",
       "  </thead>\n",
       "  <tbody>\n",
       "    <tr>\n",
       "      <th>Control</th>\n",
       "      <td>558070</td>\n",
       "      <td>89034</td>\n",
       "    </tr>\n",
       "    <tr>\n",
       "      <th>Test</th>\n",
       "      <td>138770</td>\n",
       "      <td>22278</td>\n",
       "    </tr>\n",
       "  </tbody>\n",
       "</table>\n",
       "</div>"
      ],
      "text/plain": [
       "          count  nunique\n",
       "AbGroup                 \n",
       "Control  558070    89034\n",
       "Test     138770    22278"
      ]
     },
     "execution_count": 16,
     "metadata": {},
     "output_type": "execute_result"
    }
   ],
   "source": [
    "df.groupby('AbGroup')['user_id'].agg(['count','nunique'])"
   ]
  },
  {
   "cell_type": "markdown",
   "metadata": {},
   "source": [
    "Посмотрим временной промежуток эксперимента."
   ]
  },
  {
   "cell_type": "code",
   "execution_count": 17,
   "metadata": {},
   "outputs": [],
   "source": [
    "df['time_stamp'] = pd.to_datetime(df['time_stamp'],format='%Y-%m-%d')"
   ]
  },
  {
   "cell_type": "code",
   "execution_count": 18,
   "metadata": {},
   "outputs": [],
   "source": [
    "df['install_date'] = pd.to_datetime(df['install_date'],format='%Y-%m-%d')"
   ]
  },
  {
   "cell_type": "markdown",
   "metadata": {},
   "source": [
    "Посморим, сколько событий происходит каждый день. Исследование шло месяц."
   ]
  },
  {
   "cell_type": "code",
   "execution_count": 19,
   "metadata": {},
   "outputs": [
    {
     "data": {
      "text/plain": [
       "<AxesSubplot:xlabel='time_stamp'>"
      ]
     },
     "execution_count": 19,
     "metadata": {},
     "output_type": "execute_result"
    },
    {
     "data": {
      "image/png": "[encoded data removed]",
      "text/plain": [
       "<Figure size 432x288 with 1 Axes>"
      ]
     },
     "metadata": {
      "needs_background": "light"
     },
     "output_type": "display_data"
    }
   ],
   "source": [
    "df.groupby('time_stamp')['user_id'].count().plot()"
   ]
  },
  {
   "cell_type": "markdown",
   "metadata": {},
   "source": [
    "Посмотрим уникальность данных."
   ]
  },
  {
   "cell_type": "code",
   "execution_count": 20,
   "metadata": {},
   "outputs": [
    {
     "data": {
      "text/plain": [
       "<AxesSubplot:xlabel='time_stamp'>"
      ]
     },
     "execution_count": 20,
     "metadata": {},
     "output_type": "execute_result"
    },
    {
     "data": {
      "image/png": "[encoded data removed]",
      "text/plain": [
       "<Figure size 432x288 with 1 Axes>"
      ]
     },
     "metadata": {
      "needs_background": "light"
     },
     "output_type": "display_data"
    }
   ],
   "source": [
    "df.groupby('time_stamp')['user_id'].nunique().plot()"
   ]
  },
  {
   "cell_type": "code",
   "execution_count": 21,
   "metadata": {},
   "outputs": [
    {
     "data": {
      "text/html": [
       "<div>\n",
       "<style scoped>\n",
       "    .dataframe tbody tr th:only-of-type {\n",
       "        vertical-align: middle;\n",
       "    }\n",
       "\n",
       "    .dataframe tbody tr th {\n",
       "        vertical-align: top;\n",
       "    }\n",
       "\n",
       "    .dataframe thead th {\n",
       "        text-align: right;\n",
       "    }\n",
       "</style>\n",
       "<table border=\"1\" class=\"dataframe\">\n",
       "  <thead>\n",
       "    <tr style=\"text-align: right;\">\n",
       "      <th></th>\n",
       "      <th>count</th>\n",
       "      <th>nunique</th>\n",
       "    </tr>\n",
       "    <tr>\n",
       "      <th>time_stamp</th>\n",
       "      <th></th>\n",
       "      <th></th>\n",
       "    </tr>\n",
       "  </thead>\n",
       "  <tbody>\n",
       "    <tr>\n",
       "      <th>2020-02-06</th>\n",
       "      <td>4</td>\n",
       "      <td>3</td>\n",
       "    </tr>\n",
       "    <tr>\n",
       "      <th>2020-02-08</th>\n",
       "      <td>1</td>\n",
       "      <td>1</td>\n",
       "    </tr>\n",
       "    <tr>\n",
       "      <th>2020-02-09</th>\n",
       "      <td>413</td>\n",
       "      <td>410</td>\n",
       "    </tr>\n",
       "    <tr>\n",
       "      <th>2020-02-10</th>\n",
       "      <td>12472</td>\n",
       "      <td>12445</td>\n",
       "    </tr>\n",
       "    <tr>\n",
       "      <th>2020-02-11</th>\n",
       "      <td>21822</td>\n",
       "      <td>21767</td>\n",
       "    </tr>\n",
       "    <tr>\n",
       "      <th>2020-02-12</th>\n",
       "      <td>24292</td>\n",
       "      <td>24225</td>\n",
       "    </tr>\n",
       "    <tr>\n",
       "      <th>2020-02-13</th>\n",
       "      <td>25194</td>\n",
       "      <td>25131</td>\n",
       "    </tr>\n",
       "    <tr>\n",
       "      <th>2020-02-14</th>\n",
       "      <td>26464</td>\n",
       "      <td>26407</td>\n",
       "    </tr>\n",
       "    <tr>\n",
       "      <th>2020-02-15</th>\n",
       "      <td>28959</td>\n",
       "      <td>28894</td>\n",
       "    </tr>\n",
       "    <tr>\n",
       "      <th>2020-02-16</th>\n",
       "      <td>28780</td>\n",
       "      <td>28713</td>\n",
       "    </tr>\n",
       "    <tr>\n",
       "      <th>2020-02-17</th>\n",
       "      <td>30044</td>\n",
       "      <td>29963</td>\n",
       "    </tr>\n",
       "    <tr>\n",
       "      <th>2020-02-18</th>\n",
       "      <td>30417</td>\n",
       "      <td>30341</td>\n",
       "    </tr>\n",
       "    <tr>\n",
       "      <th>2020-02-19</th>\n",
       "      <td>30044</td>\n",
       "      <td>29964</td>\n",
       "    </tr>\n",
       "    <tr>\n",
       "      <th>2020-02-20</th>\n",
       "      <td>29909</td>\n",
       "      <td>29868</td>\n",
       "    </tr>\n",
       "    <tr>\n",
       "      <th>2020-02-21</th>\n",
       "      <td>31032</td>\n",
       "      <td>30995</td>\n",
       "    </tr>\n",
       "    <tr>\n",
       "      <th>2020-02-22</th>\n",
       "      <td>32651</td>\n",
       "      <td>32607</td>\n",
       "    </tr>\n",
       "    <tr>\n",
       "      <th>2020-02-23</th>\n",
       "      <td>30500</td>\n",
       "      <td>30453</td>\n",
       "    </tr>\n",
       "    <tr>\n",
       "      <th>2020-02-24</th>\n",
       "      <td>29728</td>\n",
       "      <td>29689</td>\n",
       "    </tr>\n",
       "    <tr>\n",
       "      <th>2020-02-25</th>\n",
       "      <td>29655</td>\n",
       "      <td>29615</td>\n",
       "    </tr>\n",
       "    <tr>\n",
       "      <th>2020-02-26</th>\n",
       "      <td>29694</td>\n",
       "      <td>29648</td>\n",
       "    </tr>\n",
       "    <tr>\n",
       "      <th>2020-02-27</th>\n",
       "      <td>30754</td>\n",
       "      <td>30705</td>\n",
       "    </tr>\n",
       "    <tr>\n",
       "      <th>2020-02-28</th>\n",
       "      <td>30481</td>\n",
       "      <td>30441</td>\n",
       "    </tr>\n",
       "    <tr>\n",
       "      <th>2020-02-29</th>\n",
       "      <td>31377</td>\n",
       "      <td>31339</td>\n",
       "    </tr>\n",
       "    <tr>\n",
       "      <th>2020-03-01</th>\n",
       "      <td>34058</td>\n",
       "      <td>34004</td>\n",
       "    </tr>\n",
       "    <tr>\n",
       "      <th>2020-03-02</th>\n",
       "      <td>32980</td>\n",
       "      <td>32943</td>\n",
       "    </tr>\n",
       "    <tr>\n",
       "      <th>2020-03-03</th>\n",
       "      <td>32554</td>\n",
       "      <td>32510</td>\n",
       "    </tr>\n",
       "    <tr>\n",
       "      <th>2020-03-04</th>\n",
       "      <td>32561</td>\n",
       "      <td>32514</td>\n",
       "    </tr>\n",
       "  </tbody>\n",
       "</table>\n",
       "</div>"
      ],
      "text/plain": [
       "            count  nunique\n",
       "time_stamp                \n",
       "2020-02-06      4        3\n",
       "2020-02-08      1        1\n",
       "2020-02-09    413      410\n",
       "2020-02-10  12472    12445\n",
       "2020-02-11  21822    21767\n",
       "2020-02-12  24292    24225\n",
       "2020-02-13  25194    25131\n",
       "2020-02-14  26464    26407\n",
       "2020-02-15  28959    28894\n",
       "2020-02-16  28780    28713\n",
       "2020-02-17  30044    29963\n",
       "2020-02-18  30417    30341\n",
       "2020-02-19  30044    29964\n",
       "2020-02-20  29909    29868\n",
       "2020-02-21  31032    30995\n",
       "2020-02-22  32651    32607\n",
       "2020-02-23  30500    30453\n",
       "2020-02-24  29728    29689\n",
       "2020-02-25  29655    29615\n",
       "2020-02-26  29694    29648\n",
       "2020-02-27  30754    30705\n",
       "2020-02-28  30481    30441\n",
       "2020-02-29  31377    31339\n",
       "2020-03-01  34058    34004\n",
       "2020-03-02  32980    32943\n",
       "2020-03-03  32554    32510\n",
       "2020-03-04  32561    32514"
      ]
     },
     "execution_count": 21,
     "metadata": {},
     "output_type": "execute_result"
    }
   ],
   "source": [
    "df.groupby('time_stamp')['user_id'].agg(['count','nunique'])"
   ]
  },
  {
   "cell_type": "markdown",
   "metadata": {},
   "source": [
    "Данные почти не отличаются."
   ]
  },
  {
   "cell_type": "code",
   "execution_count": 22,
   "metadata": {},
   "outputs": [
    {
     "data": {
      "text/plain": [
       "count     45412.000000\n",
       "mean       1992.865322\n",
       "std        3895.541280\n",
       "min         500.000000\n",
       "25%         500.000000\n",
       "50%        1000.000000\n",
       "75%        2400.000000\n",
       "max      189600.000000\n",
       "Name: gold_on_event, dtype: float64"
      ]
     },
     "execution_count": 22,
     "metadata": {},
     "output_type": "execute_result"
    }
   ],
   "source": [
    "df['gold_on_event'].describe()"
   ]
  },
  {
   "cell_type": "markdown",
   "metadata": {},
   "source": [
    "Рассмотрим золото, потраченное на ивентный процесс."
   ]
  },
  {
   "cell_type": "code",
   "execution_count": 25,
   "metadata": {},
   "outputs": [
    {
     "data": {
      "text/plain": [
       "<AxesSubplot:>"
      ]
     },
     "execution_count": 25,
     "metadata": {},
     "output_type": "execute_result"
    },
    {
     "data": {
      "image/png": "[encoded data removed]",
      "text/plain": [
       "<Figure size 432x288 with 1 Axes>"
      ]
     },
     "metadata": {
      "needs_background": "light"
     },
     "output_type": "display_data"
    }
   ],
   "source": [
    "df['gold_on_event'].hist()"
   ]
  },
  {
   "cell_type": "markdown",
   "metadata": {},
   "source": [
    "Рассмотрим золото, потраченное на другие активности."
   ]
  },
  {
   "cell_type": "code",
   "execution_count": 26,
   "metadata": {},
   "outputs": [
    {
     "data": {
      "text/plain": [
       "<AxesSubplot:>"
      ]
     },
     "execution_count": 26,
     "metadata": {},
     "output_type": "execute_result"
    },
    {
     "data": {
      "image/png": "[encoded data removed]",
      "text/plain": [
       "<Figure size 432x288 with 1 Axes>"
      ]
     },
     "metadata": {
      "needs_background": "light"
     },
     "output_type": "display_data"
    }
   ],
   "source": [
    "df['gold_on_other_activities'].hist()"
   ]
  },
  {
   "cell_type": "code",
   "execution_count": 27,
   "metadata": {},
   "outputs": [],
   "source": [
    "df['gold_on_event_binar'] = (df['gold_on_event'] > 0)*1\n",
    "df['gold_on_other_activities_binar'] = (df['gold_on_other_activities'] > 0)*1"
   ]
  },
  {
   "cell_type": "markdown",
   "metadata": {},
   "source": [
    "Посчтаем конверсию."
   ]
  },
  {
   "cell_type": "code",
   "execution_count": 32,
   "metadata": {},
   "outputs": [
    {
     "data": {
      "text/html": [
       "<div>\n",
       "<style scoped>\n",
       "    .dataframe tbody tr th:only-of-type {\n",
       "        vertical-align: middle;\n",
       "    }\n",
       "\n",
       "    .dataframe tbody tr th {\n",
       "        vertical-align: top;\n",
       "    }\n",
       "\n",
       "    .dataframe thead tr th {\n",
       "        text-align: left;\n",
       "    }\n",
       "\n",
       "    .dataframe thead tr:last-of-type th {\n",
       "        text-align: right;\n",
       "    }\n",
       "</style>\n",
       "<table border=\"1\" class=\"dataframe\">\n",
       "  <thead>\n",
       "    <tr>\n",
       "      <th></th>\n",
       "      <th colspan=\"2\" halign=\"left\">gold_on_event_binar</th>\n",
       "      <th colspan=\"2\" halign=\"left\">gold_on_event</th>\n",
       "    </tr>\n",
       "    <tr>\n",
       "      <th></th>\n",
       "      <th>count</th>\n",
       "      <th>mean</th>\n",
       "      <th>mean</th>\n",
       "      <th>median</th>\n",
       "    </tr>\n",
       "    <tr>\n",
       "      <th>AbGroup</th>\n",
       "      <th></th>\n",
       "      <th></th>\n",
       "      <th></th>\n",
       "      <th></th>\n",
       "    </tr>\n",
       "  </thead>\n",
       "  <tbody>\n",
       "    <tr>\n",
       "      <th>Control</th>\n",
       "      <td>558070</td>\n",
       "      <td>0.06523</td>\n",
       "      <td>1965.211658</td>\n",
       "      <td>1000.0</td>\n",
       "    </tr>\n",
       "    <tr>\n",
       "      <th>Test</th>\n",
       "      <td>138770</td>\n",
       "      <td>0.06492</td>\n",
       "      <td>2104.606505</td>\n",
       "      <td>1500.0</td>\n",
       "    </tr>\n",
       "  </tbody>\n",
       "</table>\n",
       "</div>"
      ],
      "text/plain": [
       "        gold_on_event_binar          gold_on_event        \n",
       "                      count     mean          mean  median\n",
       "AbGroup                                                   \n",
       "Control              558070  0.06523   1965.211658  1000.0\n",
       "Test                 138770  0.06492   2104.606505  1500.0"
      ]
     },
     "execution_count": 32,
     "metadata": {},
     "output_type": "execute_result"
    }
   ],
   "source": [
    "(df.groupby(['AbGroup'])[['gold_on_event_binar','gold_on_event']].agg({'gold_on_event_binar':['count','mean'],\n",
    "                                                                      'gold_on_event':['mean','median']}))"
   ]
  },
  {
   "cell_type": "markdown",
   "metadata": {},
   "source": [
    "Посмотрим попадают ли пользователи в контрольную и тестовую группу одновременно."
   ]
  },
  {
   "cell_type": "code",
   "execution_count": 36,
   "metadata": {},
   "outputs": [
    {
     "data": {
      "text/html": [
       "<div>\n",
       "<style scoped>\n",
       "    .dataframe tbody tr th:only-of-type {\n",
       "        vertical-align: middle;\n",
       "    }\n",
       "\n",
       "    .dataframe tbody tr th {\n",
       "        vertical-align: top;\n",
       "    }\n",
       "\n",
       "    .dataframe thead th {\n",
       "        text-align: right;\n",
       "    }\n",
       "</style>\n",
       "<table border=\"1\" class=\"dataframe\">\n",
       "  <thead>\n",
       "    <tr style=\"text-align: right;\">\n",
       "      <th></th>\n",
       "      <th>user_id</th>\n",
       "      <th>AbGroup</th>\n",
       "    </tr>\n",
       "  </thead>\n",
       "  <tbody>\n",
       "    <tr>\n",
       "      <th>0</th>\n",
       "      <td>00000d6d79ec151d74c5b0c0705d9d9fe252fe83</td>\n",
       "      <td>1</td>\n",
       "    </tr>\n",
       "    <tr>\n",
       "      <th>1</th>\n",
       "      <td>000133682d2dcd90c1a9c8ca5e34a294f31af64f</td>\n",
       "      <td>1</td>\n",
       "    </tr>\n",
       "    <tr>\n",
       "      <th>2</th>\n",
       "      <td>0001f13b0535b174bc7e36a1846c31c7a091c4b0</td>\n",
       "      <td>1</td>\n",
       "    </tr>\n",
       "    <tr>\n",
       "      <th>3</th>\n",
       "      <td>00021d57aced59fbfaf63ba620afada82fc06ca8</td>\n",
       "      <td>1</td>\n",
       "    </tr>\n",
       "    <tr>\n",
       "      <th>4</th>\n",
       "      <td>00027b7d34e10c17bfd4f76aa626403a2c5d1044</td>\n",
       "      <td>1</td>\n",
       "    </tr>\n",
       "    <tr>\n",
       "      <th>...</th>\n",
       "      <td>...</td>\n",
       "      <td>...</td>\n",
       "    </tr>\n",
       "    <tr>\n",
       "      <th>110955</th>\n",
       "      <td>fffea25b3877c861a4ebaa00e8fb9c5b96672e00</td>\n",
       "      <td>1</td>\n",
       "    </tr>\n",
       "    <tr>\n",
       "      <th>110956</th>\n",
       "      <td>fffeb6c54253ef0e7b0c4f38eb81a9dd9aebcb14</td>\n",
       "      <td>1</td>\n",
       "    </tr>\n",
       "    <tr>\n",
       "      <th>110957</th>\n",
       "      <td>ffff1964e1cb3bb0fc17c9ed440e3a6b6e6adf99</td>\n",
       "      <td>1</td>\n",
       "    </tr>\n",
       "    <tr>\n",
       "      <th>110958</th>\n",
       "      <td>ffff86c1dc72ba25d61ad8c92e9a5b3d6e2f5547</td>\n",
       "      <td>1</td>\n",
       "    </tr>\n",
       "    <tr>\n",
       "      <th>110959</th>\n",
       "      <td>ffffb50d0170ef0bc2eda7d20211b2c963c61e2a</td>\n",
       "      <td>1</td>\n",
       "    </tr>\n",
       "  </tbody>\n",
       "</table>\n",
       "<p>110960 rows × 2 columns</p>\n",
       "</div>"
      ],
      "text/plain": [
       "                                         user_id  AbGroup\n",
       "0       00000d6d79ec151d74c5b0c0705d9d9fe252fe83        1\n",
       "1       000133682d2dcd90c1a9c8ca5e34a294f31af64f        1\n",
       "2       0001f13b0535b174bc7e36a1846c31c7a091c4b0        1\n",
       "3       00021d57aced59fbfaf63ba620afada82fc06ca8        1\n",
       "4       00027b7d34e10c17bfd4f76aa626403a2c5d1044        1\n",
       "...                                          ...      ...\n",
       "110955  fffea25b3877c861a4ebaa00e8fb9c5b96672e00        1\n",
       "110956  fffeb6c54253ef0e7b0c4f38eb81a9dd9aebcb14        1\n",
       "110957  ffff1964e1cb3bb0fc17c9ed440e3a6b6e6adf99        1\n",
       "110958  ffff86c1dc72ba25d61ad8c92e9a5b3d6e2f5547        1\n",
       "110959  ffffb50d0170ef0bc2eda7d20211b2c963c61e2a        1\n",
       "\n",
       "[110960 rows x 2 columns]"
      ]
     },
     "execution_count": 36,
     "metadata": {},
     "output_type": "execute_result"
    }
   ],
   "source": [
    "p = df.groupby('user_id')['AbGroup'].nunique().reset_index()"
   ]
  },
  {
   "cell_type": "code",
   "execution_count": 37,
   "metadata": {},
   "outputs": [
    {
     "data": {
      "text/html": [
       "<div>\n",
       "<style scoped>\n",
       "    .dataframe tbody tr th:only-of-type {\n",
       "        vertical-align: middle;\n",
       "    }\n",
       "\n",
       "    .dataframe tbody tr th {\n",
       "        vertical-align: top;\n",
       "    }\n",
       "\n",
       "    .dataframe thead th {\n",
       "        text-align: right;\n",
       "    }\n",
       "</style>\n",
       "<table border=\"1\" class=\"dataframe\">\n",
       "  <thead>\n",
       "    <tr style=\"text-align: right;\">\n",
       "      <th></th>\n",
       "      <th>user_id</th>\n",
       "      <th>AbGroup</th>\n",
       "    </tr>\n",
       "  </thead>\n",
       "  <tbody>\n",
       "    <tr>\n",
       "      <th>202</th>\n",
       "      <td>007a61c7cc84aa559280c6d222aa3e15cb5e0114</td>\n",
       "      <td>2</td>\n",
       "    </tr>\n",
       "    <tr>\n",
       "      <th>208</th>\n",
       "      <td>007c891d5eb34c1398966a836d74a123452384de</td>\n",
       "      <td>2</td>\n",
       "    </tr>\n",
       "    <tr>\n",
       "      <th>895</th>\n",
       "      <td>02125379d8faf43debf755edfb32758ea5d789d8</td>\n",
       "      <td>2</td>\n",
       "    </tr>\n",
       "    <tr>\n",
       "      <th>1097</th>\n",
       "      <td>028e3fc09324ac6df71fccf432dabe44e476956c</td>\n",
       "      <td>2</td>\n",
       "    </tr>\n",
       "    <tr>\n",
       "      <th>1107</th>\n",
       "      <td>02977b73d35305fc135ea01bfcc9e1aa334d480a</td>\n",
       "      <td>2</td>\n",
       "    </tr>\n",
       "    <tr>\n",
       "      <th>...</th>\n",
       "      <td>...</td>\n",
       "      <td>...</td>\n",
       "    </tr>\n",
       "    <tr>\n",
       "      <th>110097</th>\n",
       "      <td>fe08c305b0317eecc6b5cf3cc5362fc912afdc0b</td>\n",
       "      <td>2</td>\n",
       "    </tr>\n",
       "    <tr>\n",
       "      <th>110362</th>\n",
       "      <td>fea60891a7ef95c7b95a0b1e58cb9d755684b3de</td>\n",
       "      <td>2</td>\n",
       "    </tr>\n",
       "    <tr>\n",
       "      <th>110480</th>\n",
       "      <td>fef449646b98d04def88b9ddb45e7c43bd9a278a</td>\n",
       "      <td>2</td>\n",
       "    </tr>\n",
       "    <tr>\n",
       "      <th>110515</th>\n",
       "      <td>ff079e7288b379b4e47650da302a5cc23e8c7ad3</td>\n",
       "      <td>2</td>\n",
       "    </tr>\n",
       "    <tr>\n",
       "      <th>110746</th>\n",
       "      <td>ff816e78735bba9ef1d63f46e4614754e2aaeff6</td>\n",
       "      <td>2</td>\n",
       "    </tr>\n",
       "  </tbody>\n",
       "</table>\n",
       "<p>352 rows × 2 columns</p>\n",
       "</div>"
      ],
      "text/plain": [
       "                                         user_id  AbGroup\n",
       "202     007a61c7cc84aa559280c6d222aa3e15cb5e0114        2\n",
       "208     007c891d5eb34c1398966a836d74a123452384de        2\n",
       "895     02125379d8faf43debf755edfb32758ea5d789d8        2\n",
       "1097    028e3fc09324ac6df71fccf432dabe44e476956c        2\n",
       "1107    02977b73d35305fc135ea01bfcc9e1aa334d480a        2\n",
       "...                                          ...      ...\n",
       "110097  fe08c305b0317eecc6b5cf3cc5362fc912afdc0b        2\n",
       "110362  fea60891a7ef95c7b95a0b1e58cb9d755684b3de        2\n",
       "110480  fef449646b98d04def88b9ddb45e7c43bd9a278a        2\n",
       "110515  ff079e7288b379b4e47650da302a5cc23e8c7ad3        2\n",
       "110746  ff816e78735bba9ef1d63f46e4614754e2aaeff6        2\n",
       "\n",
       "[352 rows x 2 columns]"
      ]
     },
     "execution_count": 37,
     "metadata": {},
     "output_type": "execute_result"
    }
   ],
   "source": [
    "p[p['AbGroup'] > 1]"
   ]
  },
  {
   "cell_type": "code",
   "execution_count": 48,
   "metadata": {},
   "outputs": [
    {
     "data": {
      "text/html": [
       "<div>\n",
       "<style scoped>\n",
       "    .dataframe tbody tr th:only-of-type {\n",
       "        vertical-align: middle;\n",
       "    }\n",
       "\n",
       "    .dataframe tbody tr th {\n",
       "        vertical-align: top;\n",
       "    }\n",
       "\n",
       "    .dataframe thead tr th {\n",
       "        text-align: left;\n",
       "    }\n",
       "</style>\n",
       "<table border=\"1\" class=\"dataframe\">\n",
       "  <thead>\n",
       "    <tr>\n",
       "      <th></th>\n",
       "      <th>AbGroup</th>\n",
       "      <th>user_id</th>\n",
       "      <th colspan=\"2\" halign=\"left\">gold_on_event_binar</th>\n",
       "      <th colspan=\"2\" halign=\"left\">gold_on_event</th>\n",
       "    </tr>\n",
       "    <tr>\n",
       "      <th></th>\n",
       "      <th></th>\n",
       "      <th></th>\n",
       "      <th>count</th>\n",
       "      <th>mean</th>\n",
       "      <th>mean</th>\n",
       "      <th>median</th>\n",
       "    </tr>\n",
       "  </thead>\n",
       "  <tbody>\n",
       "    <tr>\n",
       "      <th>0</th>\n",
       "      <td>Control</td>\n",
       "      <td>00000d6d79ec151d74c5b0c0705d9d9fe252fe83</td>\n",
       "      <td>2</td>\n",
       "      <td>0.000000</td>\n",
       "      <td>NaN</td>\n",
       "      <td>NaN</td>\n",
       "    </tr>\n",
       "    <tr>\n",
       "      <th>1</th>\n",
       "      <td>Control</td>\n",
       "      <td>000133682d2dcd90c1a9c8ca5e34a294f31af64f</td>\n",
       "      <td>19</td>\n",
       "      <td>0.105263</td>\n",
       "      <td>1250.0</td>\n",
       "      <td>1250.0</td>\n",
       "    </tr>\n",
       "    <tr>\n",
       "      <th>2</th>\n",
       "      <td>Control</td>\n",
       "      <td>0001f13b0535b174bc7e36a1846c31c7a091c4b0</td>\n",
       "      <td>11</td>\n",
       "      <td>0.000000</td>\n",
       "      <td>NaN</td>\n",
       "      <td>NaN</td>\n",
       "    </tr>\n",
       "    <tr>\n",
       "      <th>3</th>\n",
       "      <td>Control</td>\n",
       "      <td>00030f76fdb923292f29dfd06dd5a4ac6e5aaa7e</td>\n",
       "      <td>1</td>\n",
       "      <td>0.000000</td>\n",
       "      <td>NaN</td>\n",
       "      <td>NaN</td>\n",
       "    </tr>\n",
       "    <tr>\n",
       "      <th>4</th>\n",
       "      <td>Control</td>\n",
       "      <td>00034f46e0922c7174676c439258e78aea4d6218</td>\n",
       "      <td>6</td>\n",
       "      <td>0.000000</td>\n",
       "      <td>NaN</td>\n",
       "      <td>NaN</td>\n",
       "    </tr>\n",
       "    <tr>\n",
       "      <th>...</th>\n",
       "      <td>...</td>\n",
       "      <td>...</td>\n",
       "      <td>...</td>\n",
       "      <td>...</td>\n",
       "      <td>...</td>\n",
       "      <td>...</td>\n",
       "    </tr>\n",
       "    <tr>\n",
       "      <th>111307</th>\n",
       "      <td>Test</td>\n",
       "      <td>ffe5439253fc51e41a4f9125e58a0f6df606b673</td>\n",
       "      <td>1</td>\n",
       "      <td>0.000000</td>\n",
       "      <td>NaN</td>\n",
       "      <td>NaN</td>\n",
       "    </tr>\n",
       "    <tr>\n",
       "      <th>111308</th>\n",
       "      <td>Test</td>\n",
       "      <td>ffe93ceba3222628ac066df11bd5e3bb066d16a2</td>\n",
       "      <td>1</td>\n",
       "      <td>0.000000</td>\n",
       "      <td>NaN</td>\n",
       "      <td>NaN</td>\n",
       "    </tr>\n",
       "    <tr>\n",
       "      <th>111309</th>\n",
       "      <td>Test</td>\n",
       "      <td>ffefccf748df1dc50e07511ec22c23471416f1cd</td>\n",
       "      <td>7</td>\n",
       "      <td>0.000000</td>\n",
       "      <td>NaN</td>\n",
       "      <td>NaN</td>\n",
       "    </tr>\n",
       "    <tr>\n",
       "      <th>111310</th>\n",
       "      <td>Test</td>\n",
       "      <td>fff288cdc5e07b6b90564708970c35e2f32532c1</td>\n",
       "      <td>1</td>\n",
       "      <td>0.000000</td>\n",
       "      <td>NaN</td>\n",
       "      <td>NaN</td>\n",
       "    </tr>\n",
       "    <tr>\n",
       "      <th>111311</th>\n",
       "      <td>Test</td>\n",
       "      <td>fff473d1df90105d6788351dcbed2cafbfb4757a</td>\n",
       "      <td>4</td>\n",
       "      <td>0.000000</td>\n",
       "      <td>NaN</td>\n",
       "      <td>NaN</td>\n",
       "    </tr>\n",
       "  </tbody>\n",
       "</table>\n",
       "<p>111312 rows × 6 columns</p>\n",
       "</div>"
      ],
      "text/plain": [
       "        AbGroup                                   user_id gold_on_event_binar  \\\n",
       "                                                                        count   \n",
       "0       Control  00000d6d79ec151d74c5b0c0705d9d9fe252fe83                   2   \n",
       "1       Control  000133682d2dcd90c1a9c8ca5e34a294f31af64f                  19   \n",
       "2       Control  0001f13b0535b174bc7e36a1846c31c7a091c4b0                  11   \n",
       "3       Control  00030f76fdb923292f29dfd06dd5a4ac6e5aaa7e                   1   \n",
       "4       Control  00034f46e0922c7174676c439258e78aea4d6218                   6   \n",
       "...         ...                                       ...                 ...   \n",
       "111307     Test  ffe5439253fc51e41a4f9125e58a0f6df606b673                   1   \n",
       "111308     Test  ffe93ceba3222628ac066df11bd5e3bb066d16a2                   1   \n",
       "111309     Test  ffefccf748df1dc50e07511ec22c23471416f1cd                   7   \n",
       "111310     Test  fff288cdc5e07b6b90564708970c35e2f32532c1                   1   \n",
       "111311     Test  fff473d1df90105d6788351dcbed2cafbfb4757a                   4   \n",
       "\n",
       "                 gold_on_event          \n",
       "            mean          mean  median  \n",
       "0       0.000000           NaN     NaN  \n",
       "1       0.105263        1250.0  1250.0  \n",
       "2       0.000000           NaN     NaN  \n",
       "3       0.000000           NaN     NaN  \n",
       "4       0.000000           NaN     NaN  \n",
       "...          ...           ...     ...  \n",
       "111307  0.000000           NaN     NaN  \n",
       "111308  0.000000           NaN     NaN  \n",
       "111309  0.000000           NaN     NaN  \n",
       "111310  0.000000           NaN     NaN  \n",
       "111311  0.000000           NaN     NaN  \n",
       "\n",
       "[111312 rows x 6 columns]"
      ]
     },
     "execution_count": 48,
     "metadata": {},
     "output_type": "execute_result"
    }
   ],
   "source": [
    "p = (df.groupby(['AbGroup', 'user_id'])[['gold_on_event_binar','gold_on_event']].agg({'gold_on_event_binar':['count','mean'],\n",
    "                                                                      'gold_on_event':['mean','median']})).reset_index()\n",
    "p"
   ]
  },
  {
   "cell_type": "markdown",
   "metadata": {},
   "source": [
    "Уберем двухэтажность индекса."
   ]
  },
  {
   "cell_type": "code",
   "execution_count": 49,
   "metadata": {},
   "outputs": [
    {
     "data": {
      "text/html": [
       "<div>\n",
       "<style scoped>\n",
       "    .dataframe tbody tr th:only-of-type {\n",
       "        vertical-align: middle;\n",
       "    }\n",
       "\n",
       "    .dataframe tbody tr th {\n",
       "        vertical-align: top;\n",
       "    }\n",
       "\n",
       "    .dataframe thead th {\n",
       "        text-align: right;\n",
       "    }\n",
       "</style>\n",
       "<table border=\"1\" class=\"dataframe\">\n",
       "  <thead>\n",
       "    <tr style=\"text-align: right;\">\n",
       "      <th></th>\n",
       "      <th>AbGroup_</th>\n",
       "      <th>user_id_</th>\n",
       "      <th>gold_on_event_binar_count</th>\n",
       "      <th>gold_on_event_binar_mean</th>\n",
       "      <th>gold_on_event_mean</th>\n",
       "      <th>gold_on_event_median</th>\n",
       "    </tr>\n",
       "  </thead>\n",
       "  <tbody>\n",
       "    <tr>\n",
       "      <th>0</th>\n",
       "      <td>Control</td>\n",
       "      <td>00000d6d79ec151d74c5b0c0705d9d9fe252fe83</td>\n",
       "      <td>2</td>\n",
       "      <td>0.000000</td>\n",
       "      <td>NaN</td>\n",
       "      <td>NaN</td>\n",
       "    </tr>\n",
       "    <tr>\n",
       "      <th>1</th>\n",
       "      <td>Control</td>\n",
       "      <td>000133682d2dcd90c1a9c8ca5e34a294f31af64f</td>\n",
       "      <td>19</td>\n",
       "      <td>0.105263</td>\n",
       "      <td>1250.0</td>\n",
       "      <td>1250.0</td>\n",
       "    </tr>\n",
       "    <tr>\n",
       "      <th>2</th>\n",
       "      <td>Control</td>\n",
       "      <td>0001f13b0535b174bc7e36a1846c31c7a091c4b0</td>\n",
       "      <td>11</td>\n",
       "      <td>0.000000</td>\n",
       "      <td>NaN</td>\n",
       "      <td>NaN</td>\n",
       "    </tr>\n",
       "    <tr>\n",
       "      <th>3</th>\n",
       "      <td>Control</td>\n",
       "      <td>00030f76fdb923292f29dfd06dd5a4ac6e5aaa7e</td>\n",
       "      <td>1</td>\n",
       "      <td>0.000000</td>\n",
       "      <td>NaN</td>\n",
       "      <td>NaN</td>\n",
       "    </tr>\n",
       "    <tr>\n",
       "      <th>4</th>\n",
       "      <td>Control</td>\n",
       "      <td>00034f46e0922c7174676c439258e78aea4d6218</td>\n",
       "      <td>6</td>\n",
       "      <td>0.000000</td>\n",
       "      <td>NaN</td>\n",
       "      <td>NaN</td>\n",
       "    </tr>\n",
       "    <tr>\n",
       "      <th>...</th>\n",
       "      <td>...</td>\n",
       "      <td>...</td>\n",
       "      <td>...</td>\n",
       "      <td>...</td>\n",
       "      <td>...</td>\n",
       "      <td>...</td>\n",
       "    </tr>\n",
       "    <tr>\n",
       "      <th>111307</th>\n",
       "      <td>Test</td>\n",
       "      <td>ffe5439253fc51e41a4f9125e58a0f6df606b673</td>\n",
       "      <td>1</td>\n",
       "      <td>0.000000</td>\n",
       "      <td>NaN</td>\n",
       "      <td>NaN</td>\n",
       "    </tr>\n",
       "    <tr>\n",
       "      <th>111308</th>\n",
       "      <td>Test</td>\n",
       "      <td>ffe93ceba3222628ac066df11bd5e3bb066d16a2</td>\n",
       "      <td>1</td>\n",
       "      <td>0.000000</td>\n",
       "      <td>NaN</td>\n",
       "      <td>NaN</td>\n",
       "    </tr>\n",
       "    <tr>\n",
       "      <th>111309</th>\n",
       "      <td>Test</td>\n",
       "      <td>ffefccf748df1dc50e07511ec22c23471416f1cd</td>\n",
       "      <td>7</td>\n",
       "      <td>0.000000</td>\n",
       "      <td>NaN</td>\n",
       "      <td>NaN</td>\n",
       "    </tr>\n",
       "    <tr>\n",
       "      <th>111310</th>\n",
       "      <td>Test</td>\n",
       "      <td>fff288cdc5e07b6b90564708970c35e2f32532c1</td>\n",
       "      <td>1</td>\n",
       "      <td>0.000000</td>\n",
       "      <td>NaN</td>\n",
       "      <td>NaN</td>\n",
       "    </tr>\n",
       "    <tr>\n",
       "      <th>111311</th>\n",
       "      <td>Test</td>\n",
       "      <td>fff473d1df90105d6788351dcbed2cafbfb4757a</td>\n",
       "      <td>4</td>\n",
       "      <td>0.000000</td>\n",
       "      <td>NaN</td>\n",
       "      <td>NaN</td>\n",
       "    </tr>\n",
       "  </tbody>\n",
       "</table>\n",
       "<p>111312 rows × 6 columns</p>\n",
       "</div>"
      ],
      "text/plain": [
       "       AbGroup_                                  user_id_  \\\n",
       "0       Control  00000d6d79ec151d74c5b0c0705d9d9fe252fe83   \n",
       "1       Control  000133682d2dcd90c1a9c8ca5e34a294f31af64f   \n",
       "2       Control  0001f13b0535b174bc7e36a1846c31c7a091c4b0   \n",
       "3       Control  00030f76fdb923292f29dfd06dd5a4ac6e5aaa7e   \n",
       "4       Control  00034f46e0922c7174676c439258e78aea4d6218   \n",
       "...         ...                                       ...   \n",
       "111307     Test  ffe5439253fc51e41a4f9125e58a0f6df606b673   \n",
       "111308     Test  ffe93ceba3222628ac066df11bd5e3bb066d16a2   \n",
       "111309     Test  ffefccf748df1dc50e07511ec22c23471416f1cd   \n",
       "111310     Test  fff288cdc5e07b6b90564708970c35e2f32532c1   \n",
       "111311     Test  fff473d1df90105d6788351dcbed2cafbfb4757a   \n",
       "\n",
       "        gold_on_event_binar_count  gold_on_event_binar_mean  \\\n",
       "0                               2                  0.000000   \n",
       "1                              19                  0.105263   \n",
       "2                              11                  0.000000   \n",
       "3                               1                  0.000000   \n",
       "4                               6                  0.000000   \n",
       "...                           ...                       ...   \n",
       "111307                          1                  0.000000   \n",
       "111308                          1                  0.000000   \n",
       "111309                          7                  0.000000   \n",
       "111310                          1                  0.000000   \n",
       "111311                          4                  0.000000   \n",
       "\n",
       "        gold_on_event_mean  gold_on_event_median  \n",
       "0                      NaN                   NaN  \n",
       "1                   1250.0                1250.0  \n",
       "2                      NaN                   NaN  \n",
       "3                      NaN                   NaN  \n",
       "4                      NaN                   NaN  \n",
       "...                    ...                   ...  \n",
       "111307                 NaN                   NaN  \n",
       "111308                 NaN                   NaN  \n",
       "111309                 NaN                   NaN  \n",
       "111310                 NaN                   NaN  \n",
       "111311                 NaN                   NaN  \n",
       "\n",
       "[111312 rows x 6 columns]"
      ]
     },
     "execution_count": 49,
     "metadata": {},
     "output_type": "execute_result"
    }
   ],
   "source": [
    "p.columns = ['_'.join(el) for el in p.columns.to_flat_index()]\n",
    "p"
   ]
  },
  {
   "cell_type": "code",
   "execution_count": 52,
   "metadata": {},
   "outputs": [
    {
     "data": {
      "text/html": [
       "<div>\n",
       "<style scoped>\n",
       "    .dataframe tbody tr th:only-of-type {\n",
       "        vertical-align: middle;\n",
       "    }\n",
       "\n",
       "    .dataframe tbody tr th {\n",
       "        vertical-align: top;\n",
       "    }\n",
       "\n",
       "    .dataframe thead tr th {\n",
       "        text-align: left;\n",
       "    }\n",
       "\n",
       "    .dataframe thead tr:last-of-type th {\n",
       "        text-align: right;\n",
       "    }\n",
       "</style>\n",
       "<table border=\"1\" class=\"dataframe\">\n",
       "  <thead>\n",
       "    <tr>\n",
       "      <th></th>\n",
       "      <th colspan=\"2\" halign=\"left\">gold_on_event_binar_count</th>\n",
       "      <th colspan=\"2\" halign=\"left\">gold_on_event_binar_mean</th>\n",
       "      <th colspan=\"2\" halign=\"left\">gold_on_event_mean</th>\n",
       "      <th colspan=\"2\" halign=\"left\">gold_on_event_median</th>\n",
       "    </tr>\n",
       "    <tr>\n",
       "      <th></th>\n",
       "      <th>count</th>\n",
       "      <th>mean</th>\n",
       "      <th>count</th>\n",
       "      <th>mean</th>\n",
       "      <th>count</th>\n",
       "      <th>mean</th>\n",
       "      <th>count</th>\n",
       "      <th>mean</th>\n",
       "    </tr>\n",
       "    <tr>\n",
       "      <th>AbGroup_</th>\n",
       "      <th></th>\n",
       "      <th></th>\n",
       "      <th></th>\n",
       "      <th></th>\n",
       "      <th></th>\n",
       "      <th></th>\n",
       "      <th></th>\n",
       "      <th></th>\n",
       "    </tr>\n",
       "  </thead>\n",
       "  <tbody>\n",
       "    <tr>\n",
       "      <th>Control</th>\n",
       "      <td>89034</td>\n",
       "      <td>6.268055</td>\n",
       "      <td>89034</td>\n",
       "      <td>0.031600</td>\n",
       "      <td>10685</td>\n",
       "      <td>2119.778819</td>\n",
       "      <td>10685</td>\n",
       "      <td>2002.976135</td>\n",
       "    </tr>\n",
       "    <tr>\n",
       "      <th>Test</th>\n",
       "      <td>22278</td>\n",
       "      <td>6.229015</td>\n",
       "      <td>22278</td>\n",
       "      <td>0.030891</td>\n",
       "      <td>2603</td>\n",
       "      <td>2417.938571</td>\n",
       "      <td>2603</td>\n",
       "      <td>2296.811371</td>\n",
       "    </tr>\n",
       "  </tbody>\n",
       "</table>\n",
       "</div>"
      ],
      "text/plain": [
       "         gold_on_event_binar_count           gold_on_event_binar_mean  \\\n",
       "                             count      mean                    count   \n",
       "AbGroup_                                                                \n",
       "Control                      89034  6.268055                    89034   \n",
       "Test                         22278  6.229015                    22278   \n",
       "\n",
       "                   gold_on_event_mean              gold_on_event_median  \\\n",
       "              mean              count         mean                count   \n",
       "AbGroup_                                                                  \n",
       "Control   0.031600              10685  2119.778819                10685   \n",
       "Test      0.030891               2603  2417.938571                 2603   \n",
       "\n",
       "                       \n",
       "                 mean  \n",
       "AbGroup_               \n",
       "Control   2002.976135  \n",
       "Test      2296.811371  "
      ]
     },
     "execution_count": 52,
     "metadata": {},
     "output_type": "execute_result"
    }
   ],
   "source": [
    "p.groupby('AbGroup_').agg(['count', 'mean'])"
   ]
  },
  {
   "cell_type": "markdown",
   "metadata": {},
   "source": [
    "Средний чек на человека 2119 в контрольной группе, 2417 в тестовой группе. В тестовой группе он немного вырос. Медиана тоже выросла."
   ]
  },
  {
   "cell_type": "markdown",
   "metadata": {},
   "source": [
    "Посчитаем p-val для медианы. Посчитаем вероятность того что выборки control и test не отличаются получить данные медианы"
   ]
  },
  {
   "cell_type": "code",
   "execution_count": 54,
   "metadata": {},
   "outputs": [
    {
     "data": {
      "text/html": [
       "<div>\n",
       "<style scoped>\n",
       "    .dataframe tbody tr th:only-of-type {\n",
       "        vertical-align: middle;\n",
       "    }\n",
       "\n",
       "    .dataframe tbody tr th {\n",
       "        vertical-align: top;\n",
       "    }\n",
       "\n",
       "    .dataframe thead tr th {\n",
       "        text-align: left;\n",
       "    }\n",
       "\n",
       "    .dataframe thead tr:last-of-type th {\n",
       "        text-align: right;\n",
       "    }\n",
       "</style>\n",
       "<table border=\"1\" class=\"dataframe\">\n",
       "  <thead>\n",
       "    <tr>\n",
       "      <th></th>\n",
       "      <th colspan=\"2\" halign=\"left\">gold_on_event_binar</th>\n",
       "      <th colspan=\"2\" halign=\"left\">gold_on_event</th>\n",
       "    </tr>\n",
       "    <tr>\n",
       "      <th></th>\n",
       "      <th>count</th>\n",
       "      <th>mean</th>\n",
       "      <th>mean</th>\n",
       "      <th>median</th>\n",
       "    </tr>\n",
       "    <tr>\n",
       "      <th>AbGroup</th>\n",
       "      <th></th>\n",
       "      <th></th>\n",
       "      <th></th>\n",
       "      <th></th>\n",
       "    </tr>\n",
       "  </thead>\n",
       "  <tbody>\n",
       "    <tr>\n",
       "      <th>Control</th>\n",
       "      <td>558070</td>\n",
       "      <td>0.06523</td>\n",
       "      <td>1965.211658</td>\n",
       "      <td>1000.0</td>\n",
       "    </tr>\n",
       "    <tr>\n",
       "      <th>Test</th>\n",
       "      <td>138770</td>\n",
       "      <td>0.06492</td>\n",
       "      <td>2104.606505</td>\n",
       "      <td>1500.0</td>\n",
       "    </tr>\n",
       "  </tbody>\n",
       "</table>\n",
       "</div>"
      ],
      "text/plain": [
       "        gold_on_event_binar          gold_on_event        \n",
       "                      count     mean          mean  median\n",
       "AbGroup                                                   \n",
       "Control              558070  0.06523   1965.211658  1000.0\n",
       "Test                 138770  0.06492   2104.606505  1500.0"
      ]
     },
     "execution_count": 54,
     "metadata": {},
     "output_type": "execute_result"
    }
   ],
   "source": [
    "(df.groupby(['AbGroup'])[['gold_on_event_binar','gold_on_event']].agg({'gold_on_event_binar':['count','mean'],\n",
    "                                                                      'gold_on_event':['mean','median']}))"
   ]
  },
  {
   "cell_type": "code",
   "execution_count": 56,
   "metadata": {},
   "outputs": [
    {
     "data": {
      "text/plain": [
       "array([558070, 138770], dtype=int64)"
      ]
     },
     "execution_count": 56,
     "metadata": {},
     "output_type": "execute_result"
    }
   ],
   "source": [
    "group_size = df['AbGroup'].value_counts().values\n",
    "group_size"
   ]
  },
  {
   "cell_type": "code",
   "execution_count": 57,
   "metadata": {},
   "outputs": [],
   "source": [
    "from tqdm.notebook import tqdm"
   ]
  },
  {
   "cell_type": "markdown",
   "metadata": {},
   "source": [
    "Посчитаем какова вероятность при тех же размерах выборки, но перемешанных данных, получить те же медианы. \n",
    "\n",
    "Bootstrap"
   ]
  },
  {
   "cell_type": "code",
   "execution_count": 63,
   "metadata": {},
   "outputs": [],
   "source": [
    "df['gold_on_event_nona'] = df['gold_on_event'].fillna(0)"
   ]
  },
  {
   "cell_type": "code",
   "execution_count": 64,
   "metadata": {},
   "outputs": [
    {
     "data": {
      "text/html": [
       "<div>\n",
       "<style scoped>\n",
       "    .dataframe tbody tr th:only-of-type {\n",
       "        vertical-align: middle;\n",
       "    }\n",
       "\n",
       "    .dataframe tbody tr th {\n",
       "        vertical-align: top;\n",
       "    }\n",
       "\n",
       "    .dataframe thead tr th {\n",
       "        text-align: left;\n",
       "    }\n",
       "\n",
       "    .dataframe thead tr:last-of-type th {\n",
       "        text-align: right;\n",
       "    }\n",
       "</style>\n",
       "<table border=\"1\" class=\"dataframe\">\n",
       "  <thead>\n",
       "    <tr>\n",
       "      <th></th>\n",
       "      <th colspan=\"2\" halign=\"left\">gold_on_event_nona</th>\n",
       "    </tr>\n",
       "    <tr>\n",
       "      <th></th>\n",
       "      <th>mean</th>\n",
       "      <th>median</th>\n",
       "    </tr>\n",
       "    <tr>\n",
       "      <th>AbGroup</th>\n",
       "      <th></th>\n",
       "      <th></th>\n",
       "    </tr>\n",
       "  </thead>\n",
       "  <tbody>\n",
       "    <tr>\n",
       "      <th>Control</th>\n",
       "      <td>128.191087</td>\n",
       "      <td>0.0</td>\n",
       "    </tr>\n",
       "    <tr>\n",
       "      <th>Test</th>\n",
       "      <td>136.631837</td>\n",
       "      <td>0.0</td>\n",
       "    </tr>\n",
       "  </tbody>\n",
       "</table>\n",
       "</div>"
      ],
      "text/plain": [
       "        gold_on_event_nona       \n",
       "                      mean median\n",
       "AbGroup                          \n",
       "Control         128.191087    0.0\n",
       "Test            136.631837    0.0"
      ]
     },
     "execution_count": 64,
     "metadata": {},
     "output_type": "execute_result"
    }
   ],
   "source": [
    "(df.groupby(['AbGroup'])[['gold_on_event_nona']].agg(['mean','median']))"
   ]
  },
  {
   "cell_type": "code",
   "execution_count": 65,
   "metadata": {},
   "outputs": [
    {
     "data": {
      "application/vnd.jupyter.widget-view+json": {
       "model_id": "726e5bc4fa2c4c44bbe83d5c92dad535",
       "version_major": 2,
       "version_minor": 0
      },
      "text/plain": [
       "HBox(children=(HTML(value=''), FloatProgress(value=0.0, max=1000.0), HTML(value='')))"
      ]
     },
     "metadata": {},
     "output_type": "display_data"
    },
    {
     "name": "stdout",
     "output_type": "stream",
     "text": [
      "\n"
     ]
    }
   ],
   "source": [
    "n = 1000\n",
    "result = []\n",
    "base_diff = 136.631837 - 128.191087\n",
    "\n",
    "for _ in tqdm(range(n)):\n",
    "  a = df.sample(group_size[0],replace=True)['gold_on_event_nona'].mean()\n",
    "  b = df.sample(group_size[1],replace=True)['gold_on_event_nona'].mean()\n",
    "  result.append(np.abs(a-b) >= base_diff)"
   ]
  },
  {
   "cell_type": "code",
   "execution_count": 67,
   "metadata": {},
   "outputs": [
    {
     "data": {
      "text/plain": [
       "0.016"
      ]
     },
     "execution_count": 67,
     "metadata": {},
     "output_type": "execute_result"
    }
   ],
   "source": [
    "np.mean(result)"
   ]
  },
  {
   "cell_type": "markdown",
   "metadata": {},
   "source": [
    "1% то что эта разница получена случайно, 0.016 < 0.05, значит можем отклонить нулевую гепотезу "
   ]
  }
 ],
 "metadata": {
  "kernelspec": {
   "display_name": "Python 3",
   "language": "python",
   "name": "python3"
  },
  "language_info": {
   "codemirror_mode": {
    "name": "ipython",
    "version": 3
   },
   "file_extension": ".py",
   "mimetype": "text/x-python",
   "name": "python",
   "nbconvert_exporter": "python",
   "pygments_lexer": "ipython3",
   "version": "3.8.5"
  }
 },
 "nbformat": 4,
 "nbformat_minor": 4
}
